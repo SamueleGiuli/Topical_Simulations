{
  "nbformat": 4,
  "nbformat_minor": 0,
  "metadata": {
    "colab": {
      "name": "Heisenberg_XXX.ipynb",
      "provenance": [],
      "collapsed_sections": []
    },
    "kernelspec": {
      "display_name": "Python 3",
      "language": "python",
      "name": "python3"
    },
    "language_info": {
      "codemirror_mode": {
        "name": "ipython",
        "version": 3
      },
      "file_extension": ".py",
      "mimetype": "text/x-python",
      "name": "python",
      "nbconvert_exporter": "python",
      "pygments_lexer": "ipython3",
      "version": "3.7.4"
    }
  },
  "cells": [
    {
      "cell_type": "code",
      "metadata": {
        "id": "jPqO0IbWNaFW"
      },
      "source": [
        "import numpy as np\n",
        "import scipy.linalg as linalg\n",
        "import scipy.special as scsp\n",
        "import matplotlib.pyplot as plt\n",
        "from itertools import permutations\n",
        "import time"
      ],
      "execution_count": null,
      "outputs": []
    },
    {
      "cell_type": "code",
      "metadata": {
        "colab": {
          "base_uri": "https://localhost:8080/"
        },
        "id": "cbthY5cJ0mzB",
        "outputId": "547afa62-d1a0-47e9-a3fa-f9f10cb36264"
      },
      "source": [
        "from google.colab import drive\n",
        "drive.mount('/content/drive')"
      ],
      "execution_count": null,
      "outputs": [
        {
          "output_type": "stream",
          "text": [
            "Mounted at /content/drive\n"
          ],
          "name": "stdout"
        }
      ]
    },
    {
      "cell_type": "markdown",
      "metadata": {
        "id": "GShod3gvNaFi"
      },
      "source": [
        "AUXILIARY FUNCTIONS"
      ]
    },
    {
      "cell_type": "code",
      "metadata": {
        "id": "7nFeLlVPNaFk"
      },
      "source": [
        "#Swapping two elements in a string along x\n",
        "def swap_x(s, i, j):\n",
        "    lst = list(s)\n",
        "    lst[i], lst[j] = lst[j], lst[i]\n",
        "    return ''.join(lst)\n",
        "\n",
        "#Swapping two elements in two strings along y\n",
        "def swap_y(Down, Up, i):\n",
        "    lst_d = list(Down)\n",
        "    lst_u = list(Up)\n",
        "    lst_d[i], lst_u[i] = lst_u[i], lst_d[i]\n",
        "    return ''.join(lst_d) , ''.join(lst_u)\n",
        "\n",
        "\n",
        "#Shifting a string to the left\n",
        "def left_shift(num,n):\n",
        "    return num[n:]+num[:n]\n",
        "#Shifting a string to the right\n",
        "def right_shift(num,n):\n",
        "    return num[-n:]+num[:-n]\n",
        "\n",
        "#Generating the set of cyclic permutations of an array 'A'\n",
        "def cyclic_y(A):\n",
        "    n = len(A)\n",
        "    out=np.reshape(A,newshape=(1,n))\n",
        "    for i in range(1,n):\n",
        "        a=np.reshape(np.append(A[i:],A[:i]),newshape=(1,n))\n",
        "        if( (a==A).all() ): return out\n",
        "        out=np.append(out,a,axis=0)\n",
        "        \n",
        "    return out\n",
        "\n",
        "#From chain of lenght N=len(row) gives the 2d corresponding state with lenght Nx*Ny \n",
        "def PermToStates(row,Ny):\n",
        "    l=int(len(row)/Ny)\n",
        "    Full=np.array([0])\n",
        "    for i in range(0,Ny):\n",
        "        #Full=np.append(Full,np.array(BitToIndex[''.join(list(row)[i*l:l*(i+1)])]))\n",
        "        Full=np.append( Full,np.array(BitToIndex[ row[i*l:l*(i+1)] ]) )\n",
        "    return np.delete(Full,0,axis=0)\n",
        "\n",
        "#Compute Sz\n",
        "def ValSz(State):\n",
        "    Sz=int(-N/2)\n",
        "    for row in State:\n",
        "        Sz += sum(list(map(int,list(list(Canonical_Basis_bit[row])))))\n",
        "    return Sz"
      ],
      "execution_count": null,
      "outputs": []
    },
    {
      "cell_type": "markdown",
      "metadata": {
        "id": "GQdlVccCNaFp"
      },
      "source": [
        "COMPUTING THE NORM OF \"RepresQxQy\" STATES FOR (qx,qy)"
      ]
    },
    {
      "cell_type": "code",
      "metadata": {
        "id": "QqFjmI32NaFq"
      },
      "source": [
        "def NormQxQy(RepresQxQy,qx,qy,Nx,Ny):\n",
        "  NN=Nx*Ny\n",
        "  NormStatesQxQy = np.zeros(len(RepresQxQy))\n",
        "  period=np.array([[Nx,Ny]]*len(RepresQxQy))\n",
        "  for r,rep in enumerate(RepresQxQy):\n",
        "    states=set()\n",
        "    for x in np.arange(0,Nx):\n",
        "          \n",
        "      ax=np.array(list(map((lambda z: BitToIndex[left_shift(Canonical_Basis_bit[z],x)]), rep)))\n",
        "      for y in np.arange(0,Ny):\n",
        "        a=np.append(ax[y:],ax[:y])\n",
        "        states.add(str(a))\n",
        "       \n",
        "    LenStates=len(states)\n",
        "    status=np.zeros(LenStates,dtype=complex)\n",
        "    StateToIndex=dict(zip(states,np.arange(0,LenStates)))\n",
        "    if (LenStates==NN):\n",
        "      NormStatesQxQy[r]=np.sqrt(NN)\n",
        "    else:\n",
        "      for x in np.arange(0,Nx):\n",
        "        ax=np.array(list(map((lambda z: BitToIndex[left_shift(Canonical_Basis_bit[z],x)]), rep)))\n",
        "        for y in np.arange(0,Ny):\n",
        "          a=np.append(ax[y:],ax[:y])\n",
        "          status[StateToIndex[str(a)]] +=np.exp(1j*(y*qy+x*qx))\n",
        "      norm=np.linalg.norm(status)\n",
        "      NormStatesQxQy[r]=norm\n",
        "\n",
        "  return NormStatesQxQy\n"
      ],
      "execution_count": null,
      "outputs": []
    },
    {
      "cell_type": "markdown",
      "metadata": {
        "id": "mJFpfBBzNaFr"
      },
      "source": [
        "SYMMETRY: GETTING THE REPRESENTATIVE STATE AND THE TRASLATIONS"
      ]
    },
    {
      "cell_type": "code",
      "metadata": {
        "id": "4AhfZgBjNaFr"
      },
      "source": [
        "#Checking which representative and how many translations along x and y\n",
        "def check_rep_xy(Status,SetRepQxQy,IndexRepQxQy,RepQxQy,Nx,Ny,r):\n",
        "    Stat=Status.copy()\n",
        "    info=False\n",
        "    for jx in np.arange(0,Nx):\n",
        "        \n",
        "        for jy in np.arange(0,Ny):\n",
        "            Stat[jy]=BitToIndex[right_shift(Canonical_Basis_bit[Status[jy]],jx)]\n",
        "\n",
        "        for jy in np.arange(0,Ny):\n",
        "            s=np.append(Stat[jy:],Stat[:jy])\n",
        "            if ( str(s) in SetRepQxQy ):\n",
        "                index=IndexRepQxQy[str(s)]\n",
        "                if (index!=r):\n",
        "                    info = True\n",
        "                    return info,jx,jy,index\n",
        "                else:\n",
        "                  print('PROBLEM check_rep_xy')\n",
        "    return info, 0, 0, 0\n",
        "\n"
      ],
      "execution_count": null,
      "outputs": []
    },
    {
      "cell_type": "markdown",
      "metadata": {
        "id": "Zg-wDg4YNaFr"
      },
      "source": [
        "REP STATES OF Nx AND Ny"
      ]
    },
    {
      "cell_type": "code",
      "metadata": {
        "id": "PA4FzDeJNaFu"
      },
      "source": [
        "#Total Rep States at fixed Nx and Ny\n",
        "def RepresQX(Nx,Ny,Sz_here):\n",
        "    \n",
        "    Ntot=Nx*Ny\n",
        "    RepresXY=np.zeros(shape=(1,Ny),dtype=int)\n",
        "    \n",
        "    ChainStates=np.array([np.binary_repr(2**int(Ntot/2)-1,width=Ntot)])\n",
        "\n",
        "    for i in range(2**int(Ntot/2),2**Ntot):\n",
        "        if( bin(i).count('1')==(Ntot/2)):\n",
        "            b=np.binary_repr(i,width=Ntot)\n",
        "            ChainStates=np.append(ChainStates,b)\n",
        "\n",
        "    FullStates=np.array(list(map(lambda x: PermToStates(x,Ny),ChainStates)))\n",
        "    \n",
        "    #second=np.unique(np.array(list(it.permutations(first))),axis=0)\n",
        "    #FullStates=np.array(list(map(lambda x: PermToStates(x,Ny),second)))\n",
        "    \n",
        "    StatesXY=set()\n",
        "    for Stat in FullStates:\n",
        "        Sz_Stat=ValSz(Stat)\n",
        "        if ((Sz_Stat==Sz_here)and(not(str(Stat) in StatesXY))):\n",
        "            RepresXY=np.append(RepresXY,np.reshape(Stat,newshape=(1,Ny)),axis=0)\n",
        "            \n",
        "            states=np.reshape(Stat,newshape=(1,Ny))\n",
        "            for jx in np.arange(1,Nx):\n",
        "                a=np.array(list(map(lambda x: BitToIndex[right_shift(Canonical_Basis_bit[x],jx)],Stat)))\n",
        "                states=np.append(states,np.reshape(a,newshape=(1,Ny)),axis=0)\n",
        "            \n",
        "            if (Ny>1):\n",
        "              Cyc=cyclic_y(states[0])\n",
        "              for row in states[1:]:\n",
        "                  Cyc=np.append(Cyc,cyclic_y(row),axis=0)\n",
        "            else:\n",
        "              Cyc=states\n",
        "\n",
        "            StatesXY.update( list(map(str,Cyc)))\n",
        "        \n",
        "    #return FullStates\n",
        "    return np.delete(RepresXY,0,axis=0), np.array(list(StatesXY))"
      ],
      "execution_count": null,
      "outputs": []
    },
    {
      "cell_type": "markdown",
      "metadata": {
        "id": "tJKAlWjwNaFu"
      },
      "source": [
        "\n",
        "IMPLEMENTING THE  HAMILTONIAN ELEMENTS APPLIED TO REPRESENTATIVES\n"
      ]
    },
    {
      "cell_type": "code",
      "metadata": {
        "id": "s0k39LDGNaFv"
      },
      "source": [
        "#Create the full Hamiltonian in the qx,qy sector.\n",
        "def H_Qxy(q_x,q_y,RepQxQy,NormStatesQxQy,Nx,Ny):\n",
        "    dimQ=len(RepQxQy)\n",
        "    H = np.zeros(shape=(dimQ,dimQ),dtype=complex)\n",
        "    ListRepQxQy=list(map(str,RepQxQy))\n",
        "    SetRepQxQy=set(ListRepQxQy)\n",
        "    IndexRepQxQy = dict(zip(ListRepQxQy,np.arange(0,dimQ)))\n",
        "    for r,rep in enumerate(RepQxQy):\n",
        "        \n",
        "        \n",
        "        for i_y in np.arange(0,Ny):\n",
        "\n",
        "            #Bit representation of two consecutive rows\n",
        "            Stat_i_y = Canonical_Basis_bit[rep[i_y]]\n",
        "            if (Ny>1):\n",
        "                inext_y=((i_y+1) % Ny)\n",
        "                Stat_inext_y = Canonical_Basis_bit[rep[inext_y]]\n",
        "\n",
        "            for i_x in np.arange(0,Nx):\n",
        "                inext_x=((i_x+1) % Nx)\n",
        "                \n",
        "                #Diagonal Terms\n",
        "                H[r,r] += 0.25*(-1)**(int(Stat_i_y[i_x])+int(Stat_i_y[inext_x])) #along x\n",
        "                if (Ny>1):\n",
        "                  H[r,r] += 0.25*(-1)**(int(Stat_i_y[i_x])+int(Stat_inext_y[i_x])) #along y\n",
        "\n",
        "                Status=rep.copy()\n",
        "                \n",
        "###########     ALONG X     ###########\n",
        "\n",
        "                MinusPlus = Stat_i_y.copy()\n",
        "                #Terms from S^- S^+\n",
        "                if ( (MinusPlus[i_x]=='1')and(MinusPlus[inext_x]=='0') ):\n",
        "                    MinusPlus=swap_x(MinusPlus,i_x,inext_x)\n",
        "                    Status[i_y]=BitToIndex[MinusPlus]\n",
        "                    info,jx,jy,rQxQy = check_rep_xy(Status,SetRepQxQy,IndexRepQxQy,RepQxQy,Nx,Ny,r)\n",
        "                    if (info):\n",
        "                        H[rQxQy,r] += 0.5*np.exp(1j*(q_x*jx+q_y*jy))*NormStatesQxQy[rQxQy]/NormStatesQxQy[r]\n",
        "                #Terms for S^+ S^-\n",
        "                elif ((MinusPlus[i_x]=='0')and(MinusPlus[inext_x]=='1') ):\n",
        "                    MinusPlus=swap_x(MinusPlus,i_x,inext_x)\n",
        "                    Status[i_y]=BitToIndex[MinusPlus]\n",
        "                    info,jx,jy,rQxQy = check_rep_xy(Status,SetRepQxQy,IndexRepQxQy,RepQxQy,Nx,Ny,r)\n",
        "                    if (info):\n",
        "                        H[rQxQy,r] += 0.5*np.exp(1j*(q_x*jx+q_y*jy))*NormStatesQxQy[rQxQy]/NormStatesQxQy[r]\n",
        "                \n",
        "                \n",
        "                \n",
        "###########     ALONG Y     ###########\n",
        "\n",
        "                if (Ny>1):\n",
        "                  Status=rep.copy()\n",
        "                  #Terms from S^- S^+\n",
        "                  MinusPlusDown = Stat_i_y.copy()\n",
        "                  MinusPlusUp = Stat_inext_y.copy()\n",
        "                  if ( (MinusPlusDown[i_x]=='1') and (MinusPlusUp[i_x]=='0') ):\n",
        "                    \n",
        "                    MinusPlusDown, MinusPlusUp = swap_y(MinusPlusDown,MinusPlusUp,i_x)\n",
        "                    Status[i_y]=BitToIndex[MinusPlusDown]\n",
        "                    Status[inext_y]=BitToIndex[MinusPlusUp]\n",
        "                    info,jx,jy,rQxQy = check_rep_xy(Status,SetRepQxQy,IndexRepQxQy,RepQxQy,Nx,Ny,r)\n",
        "                    if (info):\n",
        "                      H[rQxQy,r] += 0.5*np.exp(1j*(q_x*jx+q_y*jy))*NormStatesQxQy[rQxQy]/NormStatesQxQy[r]\n",
        "                                \n",
        "                  #Terms from S^+ S^-\n",
        "                  elif ( (MinusPlusDown[i_x]=='0') and (MinusPlusUp[i_x]=='1') ):\n",
        "                    \n",
        "                    MinusPlusDown, MinusPlusUp = swap_y(MinusPlusDown,MinusPlusUp,i_x)\n",
        "                    Status[i_y] = BitToIndex[MinusPlusDown]\n",
        "                    Status[inext_y] = BitToIndex[MinusPlusUp]\n",
        "                    info,jx,jy,rQxQy = check_rep_xy(Status,SetRepQxQy,IndexRepQxQy,RepQxQy,Nx,Ny,r)\n",
        "                    if (info):\n",
        "                      H[rQxQy,r] += 0.5*np.exp(1j*(q_x*jx+q_y*jy))*NormStatesQxQy[rQxQy]/NormStatesQxQy[r]\n",
        "                                \n",
        "    return H\n"
      ],
      "execution_count": null,
      "outputs": []
    },
    {
      "cell_type": "code",
      "metadata": {
        "id": "CB1af-P5NaFw",
        "colab": {
          "base_uri": "https://localhost:8080/"
        },
        "outputId": "0a5d1433-eb8b-46b0-ad32-a089831501e5"
      },
      "source": [
        "N=16\n",
        "dimHtot=2**N\n",
        "Sz=0\n",
        "NxVal  = [8,10,12,14,16]\n",
        "NxName = [\"8\",\"10\",\"12\",\"14\",\"16\"]\n",
        "\n",
        "print('If all correct then Total States=',scsp.binom(N,int(N/2)))\n",
        "EnVec = {}\n",
        "  \n",
        "for iNx,Nx in enumerate(NxVal):\n",
        "  #Ny=int(N/Nx)\n",
        "  Ny=1\n",
        "  dimHx=2**Nx\n",
        "  N=Nx\n",
        "  momenta_x=np.arange(0,Nx)*2*np.pi/Nx\n",
        "  momenta_y=np.arange(0,Ny)*2*np.pi/Ny\n",
        "\n",
        "  print('Canonical Basis for Nx =',Nx,'...')\n",
        "  Canonical_Basis_bit = np.array([np.binary_repr(0,width=Nx)])\n",
        "  for i in range(1,dimHx):\n",
        "    b=np.binary_repr(i,width=Nx)\n",
        "    Canonical_Basis_bit=np.append(Canonical_Basis_bit,b)\n",
        "  #Mapping from config to index\n",
        "  BitToIndex=dict(zip(Canonical_Basis_bit,np.arange(0,len(Canonical_Basis_bit))))\n",
        "  w = np.array([])\n",
        "  t1= time.perf_counter()\n",
        "  print('Building representative states...')\n",
        "  NumConfig=0\n",
        "  t1q=time.perf_counter()\n",
        "  RepresXY,States=RepresQX(Nx,Ny,Sz)\n",
        "  t2q=time.perf_counter()\n",
        "  Nstates = len(States)\n",
        "  print('RepresXY,States:',len(RepresXY),'Total States:',Nstates)\n",
        "  print('RepresXY t:',t2q-t1q)\n",
        "  #print(Canonical_Basis_bit[RepresXY])\n",
        "  ConfigToIndex = dict(zip(list(map(str,States)),range(0,Nstates)))\n",
        "  for qx in momenta_x[:]:   \n",
        "    for qy in momenta_y[:]:\n",
        "      print(' qx,qy:',qx,qy)\n",
        "\n",
        "      t1q = time.perf_counter()\n",
        "      NormStatesQxQy = NormQxQy(RepresXY,qx,qy,Nx,Ny)\n",
        "      t2q = time.perf_counter()\n",
        "      print('  Norm t:', t2q-t1q)\n",
        "\n",
        "      #print(Canonical_Basis_bit[RepresXY],NormStatesQxQy)\n",
        "      RepresQxQy=RepresXY[NormStatesQxQy>1.0e-13]\n",
        "      NormStatesQxQy=NormStatesQxQy[NormStatesQxQy>1.0e-13]\n",
        "      NumConfig += len(RepresQxQy)\n",
        "\n",
        "      t1q = time.perf_counter()\n",
        "      H_qx_qy = H_Qxy(qx,qy,RepresQxQy,NormStatesQxQy,Nx,Ny)\n",
        "      t2q = time.perf_counter()\n",
        "      print('  H_built t:', t2q-t1q)\n",
        "\n",
        "      t1q = time.perf_counter()\n",
        "      w_q, w_vec = np.linalg.eigh(H_qx_qy)\n",
        "      t2q = time.perf_counter()\n",
        "      print('  H_diag t:',t2q-t1q)\n",
        "\n",
        "      w = np.append(w,w_q)\n",
        "      \n",
        "      #plt.hist(w_q,bins=w_bins)\n",
        "      #plt.title(\"q: \"+str(q)) \n",
        "      #plt.show()\n",
        "  t2= time.perf_counter()\n",
        "  print('NumConfig:',NumConfig)\n",
        "  w=np.sort(w)\n",
        "  #np.savetxt(\"16x1.txt\", w , fmt=\"%s\")\n",
        "  print('For Nx =', Nx, ' - len: ',len(w),'   - t (s):',t2-t1)\n",
        "  EnVec.update({NxName[iNx]:w})\n",
        "  print('*************')"
      ],
      "execution_count": null,
      "outputs": [
        {
          "output_type": "stream",
          "text": [
            "If all correct then Total States= 12870.0\n",
            "Canonical Basis for Nx = 8 ...\n",
            "Building representative states...\n",
            "RepresXY,States: 10 Total States: 70\n",
            "RepresXY t: 0.010201296000104776\n",
            " qx,qy: 0.0 0.0\n",
            "  Norm t: 0.011139333999835799\n",
            "  H_built t: 0.011580451000099856\n",
            "  H_diag t: 0.0008937510001487681\n",
            " qx,qy: 0.7853981633974483 0.0\n",
            "  Norm t: 0.011633970999810117\n",
            "  H_built t: 0.015893017000053078\n",
            "  H_diag t: 0.0003082039997934771\n",
            " qx,qy: 1.5707963267948966 0.0\n",
            "  Norm t: 0.010828126999967935\n",
            "  H_built t: 0.016899535999982618\n",
            "  H_diag t: 0.0005971479999971052\n",
            " qx,qy: 2.356194490192345 0.0\n",
            "  Norm t: 0.010899060999690846\n",
            "  H_built t: 0.018053445000077772\n",
            "  H_diag t: 0.00021391499967648997\n",
            " qx,qy: 3.141592653589793 0.0\n",
            "  Norm t: 0.011150056999667868\n",
            "  H_built t: 0.011856442999942374\n",
            "  H_diag t: 0.00033667699972284026\n",
            " qx,qy: 3.9269908169872414 0.0\n",
            "  Norm t: 0.010596288000215281\n",
            "  H_built t: 0.013633391999974265\n",
            "  H_diag t: 0.00030935799986764323\n",
            " qx,qy: 4.71238898038469 0.0\n",
            "  Norm t: 0.010461892999956035\n",
            "  H_built t: 0.016807886000151484\n",
            "  H_diag t: 0.00014922699983799248\n",
            " qx,qy: 5.497787143782138 0.0\n",
            "  Norm t: 0.010882117000164726\n",
            "  H_built t: 0.016191904999686813\n",
            "  H_diag t: 0.00016590999985055532\n",
            "NumConfig: 70\n",
            "For Nx = 8  - len:  70    - t (s): 0.23134934599966073\n",
            "*************\n",
            "Canonical Basis for Nx = 10 ...\n",
            "Building representative states...\n",
            "RepresXY,States: 26 Total States: 252\n",
            "RepresXY t: 0.03008033100013563\n",
            " qx,qy: 0.0 0.0\n",
            "  Norm t: 0.029416330000003654\n",
            "  H_built t: 0.043041015999733645\n",
            "  H_diag t: 0.012328544999945734\n",
            " qx,qy: 0.6283185307179586 0.0\n",
            "  Norm t: 0.027826946999994107\n",
            "  H_built t: 0.05245566899975529\n",
            "  H_diag t: 0.0009883960001388914\n",
            " qx,qy: 1.2566370614359172 0.0\n",
            "  Norm t: 0.028270042999793077\n",
            "  H_built t: 0.047996966000027896\n",
            "  H_diag t: 0.0006707339998683892\n",
            " qx,qy: 1.8849555921538759 0.0\n",
            "  Norm t: 0.02828685399981623\n",
            "  H_built t: 0.04563609299975724\n",
            "  H_diag t: 0.000892392999958247\n",
            " qx,qy: 2.5132741228718345 0.0\n",
            "  Norm t: 0.03442223100000774\n",
            "  H_built t: 0.0481109010002001\n",
            "  H_diag t: 0.000983322000138287\n",
            " qx,qy: 3.141592653589793 0.0\n",
            "  Norm t: 0.027363783000055264\n",
            "  H_built t: 0.05128852099960568\n",
            "  H_diag t: 0.00042779099976542057\n",
            " qx,qy: 3.7699111843077517 0.0\n",
            "  Norm t: 0.033667958000023646\n",
            "  H_built t: 0.05991825799992512\n",
            "  H_diag t: 0.0009684000001470849\n",
            " qx,qy: 4.39822971502571 0.0\n",
            "  Norm t: 0.04540803100007906\n",
            "  H_built t: 0.07141069399995104\n",
            "  H_diag t: 0.0015264849998857244\n",
            " qx,qy: 5.026548245743669 0.0\n",
            "  Norm t: 0.03422507300001598\n",
            "  H_built t: 0.06432340099991052\n",
            "  H_diag t: 0.0009694840000520344\n",
            " qx,qy: 5.654866776461628 0.0\n",
            "  Norm t: 0.02849790899972504\n",
            "  H_built t: 0.0532409520001238\n",
            "  H_diag t: 0.0008831810000629048\n",
            "NumConfig: 252\n",
            "For Nx = 10  - len:  252    - t (s): 0.9183069310001883\n",
            "*************\n",
            "Canonical Basis for Nx = 12 ...\n",
            "Building representative states...\n",
            "RepresXY,States: 80 Total States: 924\n",
            "RepresXY t: 0.11259613599986551\n",
            " qx,qy: 0.0 0.0\n",
            "  Norm t: 0.11156828899993343\n",
            "  H_built t: 0.13948575499989602\n",
            "  H_diag t: 0.004483831000015925\n",
            " qx,qy: 0.5235987755982988 0.0\n",
            "  Norm t: 0.10439574200017887\n",
            "  H_built t: 0.1362999889997809\n",
            "  H_diag t: 0.009175352000056591\n",
            " qx,qy: 1.0471975511965976 0.0\n",
            "  Norm t: 0.1087493549998726\n",
            "  H_built t: 0.12250567299997783\n",
            "  H_diag t: 0.0026865820000239182\n",
            " qx,qy: 1.5707963267948966 0.0\n",
            "  Norm t: 0.10328023600004599\n",
            "  H_built t: 0.12373845000001893\n",
            "  H_diag t: 0.0022234210000533494\n",
            " qx,qy: 2.0943951023931953 0.0\n",
            "  Norm t: 0.10376511100002972\n",
            "  H_built t: 0.11714025899982516\n",
            "  H_diag t: 0.002505557999938901\n",
            " qx,qy: 2.6179938779914944 0.0\n",
            "  Norm t: 0.10448806299973512\n",
            "  H_built t: 0.14602534599998762\n",
            "  H_diag t: 0.0023896829998193425\n",
            " qx,qy: 3.141592653589793 0.0\n",
            "  Norm t: 0.1118111850000787\n",
            "  H_built t: 0.12028370200005156\n",
            "  H_diag t: 0.0024600570000075095\n",
            " qx,qy: 3.665191429188092 0.0\n",
            "  Norm t: 0.11153373399974953\n",
            "  H_built t: 0.11398882499997853\n",
            "  H_diag t: 0.002317524999853049\n",
            " qx,qy: 4.1887902047863905 0.0\n",
            "  Norm t: 0.1059064229998512\n",
            "  H_built t: 0.160688761000074\n",
            "  H_diag t: 0.004955086999871128\n",
            " qx,qy: 4.71238898038469 0.0\n",
            "  Norm t: 0.09893205399976068\n",
            "  H_built t: 0.1278518589997475\n",
            "  H_diag t: 0.002441023999836034\n",
            " qx,qy: 5.235987755982989 0.0\n",
            "  Norm t: 0.09111966799991933\n",
            "  H_built t: 0.1275821360000009\n",
            "  H_diag t: 0.0024986859998534783\n",
            " qx,qy: 5.759586531581287 0.0\n",
            "  Norm t: 0.08696345599992128\n",
            "  H_built t: 0.1333464209997146\n",
            "  H_diag t: 0.007189244000073813\n",
            "NumConfig: 924\n",
            "For Nx = 12  - len:  924    - t (s): 2.9853566790002333\n",
            "*************\n",
            "Canonical Basis for Nx = 14 ...\n",
            "Building representative states...\n",
            "RepresXY,States: 246 Total States: 3432\n",
            "RepresXY t: 0.43245979600033024\n",
            " qx,qy: 0.0 0.0\n",
            "  Norm t: 0.2910018349998609\n",
            "  H_built t: 0.4171517770000719\n",
            "  H_diag t: 0.028914668000197707\n",
            " qx,qy: 0.4487989505128276 0.0\n",
            "  Norm t: 0.3157190219999393\n",
            "  H_built t: 0.42243253399965397\n",
            "  H_diag t: 0.030708092000168108\n",
            " qx,qy: 0.8975979010256552 0.0\n",
            "  Norm t: 0.25476155300020764\n",
            "  H_built t: 0.4242967650002356\n",
            "  H_diag t: 0.030098009000084858\n",
            " qx,qy: 1.3463968515384828 0.0\n",
            "  Norm t: 0.26385359400001107\n",
            "  H_built t: 0.416846281999824\n",
            "  H_diag t: 0.034139941000375984\n",
            " qx,qy: 1.7951958020513104 0.0\n",
            "  Norm t: 0.297421593999843\n",
            "  H_built t: 0.4349984800001039\n",
            "  H_diag t: 0.03028767899968443\n",
            " qx,qy: 2.243994752564138 0.0\n",
            "  Norm t: 0.25834805699969365\n",
            "  H_built t: 0.41858995300026436\n",
            "  H_diag t: 0.03085837199978414\n",
            " qx,qy: 2.6927937030769655 0.0\n",
            "  Norm t: 0.36057873200024915\n",
            "  H_built t: 0.49028951299987966\n",
            "  H_diag t: 0.03007424199995512\n",
            " qx,qy: 3.141592653589793 0.0\n",
            "  Norm t: 0.28859256699979596\n",
            "  H_built t: 0.43754160099979345\n",
            "  H_diag t: 0.029923371000222687\n",
            " qx,qy: 3.5903916041026207 0.0\n",
            "  Norm t: 0.23777317200028847\n",
            "  H_built t: 0.43444987199973184\n",
            "  H_diag t: 0.03751656799977354\n",
            " qx,qy: 4.039190554615448 0.0\n",
            "  Norm t: 0.24804284699985146\n",
            "  H_built t: 0.4189474929999051\n",
            "  H_diag t: 0.03134871899965219\n",
            " qx,qy: 4.487989505128276 0.0\n",
            "  Norm t: 0.30172191099973134\n",
            "  H_built t: 0.4144727990001229\n",
            "  H_diag t: 0.03225715600001422\n",
            " qx,qy: 4.936788455641103 0.0\n",
            "  Norm t: 0.22547854000004008\n",
            "  H_built t: 0.4152884069999345\n",
            "  H_diag t: 0.031502294999882\n",
            " qx,qy: 5.385587406153931 0.0\n",
            "  Norm t: 0.22473267399982433\n",
            "  H_built t: 0.43914926000024934\n",
            "  H_diag t: 0.03260296300004484\n",
            " qx,qy: 5.8343863566667595 0.0\n",
            "  Norm t: 0.282169506000173\n",
            "  H_built t: 0.44821131600019726\n",
            "  H_diag t: 0.031237144999977318\n",
            "NumConfig: 3432\n",
            "For Nx = 14  - len:  3432    - t (s): 10.781793052000012\n",
            "*************\n",
            "Canonical Basis for Nx = 16 ...\n",
            "Building representative states...\n",
            "RepresXY,States: 810 Total States: 12870\n",
            "RepresXY t: 2.3419125269997494\n",
            " qx,qy: 0.0 0.0\n",
            "  Norm t: 0.7671304279997457\n",
            "  H_built t: 1.6826749359997848\n",
            "  H_diag t: 0.7652996299998449\n",
            " qx,qy: 0.39269908169872414 0.0\n",
            "  Norm t: 0.8314226420002342\n",
            "  H_built t: 1.600567374000093\n",
            "  H_diag t: 0.7706171519998861\n",
            " qx,qy: 0.7853981633974483 0.0\n",
            "  Norm t: 0.8362214369999492\n",
            "  H_built t: 1.5457399980000446\n",
            "  H_diag t: 0.8028988759997446\n",
            " qx,qy: 1.1780972450961724 0.0\n",
            "  Norm t: 0.836545684000157\n",
            "  H_built t: 1.559673748000023\n",
            "  H_diag t: 0.7627824669998517\n",
            " qx,qy: 1.5707963267948966 0.0\n",
            "  Norm t: 0.7356411749997278\n",
            "  H_built t: 1.56186047600022\n",
            "  H_diag t: 0.7902411969998866\n",
            " qx,qy: 1.9634954084936207 0.0\n",
            "  Norm t: 0.7471708300004138\n",
            "  H_built t: 1.5944134010001108\n",
            "  H_diag t: 0.7409932579998895\n",
            " qx,qy: 2.356194490192345 0.0\n",
            "  Norm t: 0.7411169550000523\n",
            "  H_built t: 1.5812846160001754\n",
            "  H_diag t: 0.7781741539997711\n",
            " qx,qy: 2.748893571891069 0.0\n",
            "  Norm t: 0.8149971930001811\n",
            "  H_built t: 1.5816125410001405\n",
            "  H_diag t: 0.7382714469999883\n",
            " qx,qy: 3.141592653589793 0.0\n",
            "  Norm t: 0.7390292810000574\n",
            "  H_built t: 1.555321063000065\n",
            "  H_diag t: 0.7767423650002456\n",
            " qx,qy: 3.5342917352885173 0.0\n",
            "  Norm t: 0.7529368609998528\n",
            "  H_built t: 1.6004038290002427\n",
            "  H_diag t: 0.7420469359999515\n",
            " qx,qy: 3.9269908169872414 0.0\n",
            "  Norm t: 0.7668809830001919\n",
            "  H_built t: 1.5747322760003044\n",
            "  H_diag t: 0.7790827710000485\n",
            " qx,qy: 4.319689898685965 0.0\n",
            "  Norm t: 0.8345849779998389\n",
            "  H_built t: 1.570223879000423\n",
            "  H_diag t: 0.7567753179996544\n",
            " qx,qy: 4.71238898038469 0.0\n",
            "  Norm t: 0.7482637190000787\n",
            "  H_built t: 1.5805277780000324\n",
            "  H_diag t: 0.8358872620001421\n",
            " qx,qy: 5.105088062083414 0.0\n",
            "  Norm t: 0.7379461020000235\n",
            "  H_built t: 1.5841709580004135\n",
            "  H_diag t: 0.7632610519999616\n",
            " qx,qy: 5.497787143782138 0.0\n",
            "  Norm t: 0.7531918039999255\n",
            "  H_built t: 1.555268169000101\n",
            "  H_diag t: 0.7911246840003514\n",
            " qx,qy: 5.890486225480862 0.0\n",
            "  Norm t: 0.7403671810002379\n",
            "  H_built t: 1.6318286549999357\n",
            "  H_diag t: 0.7535387739999351\n",
            "NumConfig: 12870\n",
            "For Nx = 16  - len:  12870    - t (s): 52.475683555999694\n",
            "*************\n"
          ],
          "name": "stdout"
        }
      ]
    },
    {
      "cell_type": "code",
      "metadata": {
        "id": "WXmlLZfONaFy",
        "scrolled": false,
        "colab": {
          "base_uri": "https://localhost:8080/",
          "height": 281
        },
        "outputId": "6d8a8976-19ff-4b0a-978c-6fe5b48eade4"
      },
      "source": [
        "#print(w_bins)\n",
        "\n",
        "#KEEP COMMENTED IF THE w HAS BEEN LOADED\n",
        "w1=np.sort(EnVec[\"16\"])\n",
        "w2=np.sort(EnVec[\"8\"])\n",
        "w4=np.sort(EnVec[\"4\"])\n",
        "\n",
        "\n",
        "w_bins=np.arange(-10,10,0.25)\n",
        "entries, bin_edges, patches = plt.hist(w1,bins=w_bins,density=True,lw=1.5,label='1x16',histtype='step')\n",
        "entries, bin_edges, patches = plt.hist(w2,bins=w_bins,density=True,lw=1.5,label='2x8',histtype='step')\n",
        "entries, bin_edges, patches = plt.hist(w4,bins=w_bins,density=True,lw=1.5,label='4x4',histtype='step')\n",
        "#entries, bin_edges, patches = plt.hist(ww[2],bins=w_bins,density=True,label='2')\n",
        "plt.title(\"DoS\") \n",
        "plt.legend()\n",
        "plt.show()\n",
        "#print(w[:20])\n",
        "#print('E_0/N:',w[0]/N)\n",
        "#plt.plot(range(0,len(w)),w,marker='o')\n"
      ],
      "execution_count": null,
      "outputs": [
        {
          "output_type": "display_data",
          "data": {
            "image/png": "[encoded data removed]",
            "text/plain": [
              "<Figure size 432x288 with 1 Axes>"
            ]
          },
          "metadata": {
            "tags": [],
            "needs_background": "light"
          }
        }
      ]
    },
    {
      "cell_type": "code",
      "metadata": {
        "id": "mPE9141b36-G",
        "colab": {
          "base_uri": "https://localhost:8080/"
        },
        "outputId": "eea53bdb-3e2d-478a-d91c-fe973a6885d5"
      },
      "source": [
        "l1=len(w1)\n",
        "l2=len(w2)\n",
        "l4=len(w4)\n",
        "print('l:',l1,l2,l4)\n",
        "dTreshold = 1e-15\n",
        "\n",
        "d1=np.diff(np.unique(w1))\n",
        "d1=d1[d1>dTreshold]\n",
        "l1_pos=len(d1)\n",
        "r1=np.minimum(d1[1:],d1[0:-1]) / np.maximum(d1[1:],d1[0:-1])\n",
        "d1_bin=np.arange(np.min(d1),np.max(d1),0.01 )\n",
        "\n",
        "d2=np.diff(np.unique(w2))\n",
        "d2=d2[d2>dTreshold]\n",
        "l2_pos=len(d2)\n",
        "r2=np.minimum(d2[1:],d2[0:-1]) / np.maximum(d2[1:],d2[0:-1])\n",
        "d2_bin=np.arange(np.min(d2),np.max(d2),0.01 )\n",
        "\n",
        "d4=np.diff(np.unique(w4))\n",
        "d4=d4[d4>dTreshold]\n",
        "l4_pos=len(d4)\n",
        "r4=np.minimum(d4[1:],d4[0:-1]) / np.maximum(d4[1:],d4[0:-1])\n",
        "d4_bin=np.arange(np.min(d4),np.max(d4),0.01 )\n",
        "\n",
        "#r=np.sort(r)\n",
        "#rmax=r[-1]\n",
        "#rmin=r[0]\n",
        "\n",
        "\n",
        "r_bin=np.arange(0,1,0.005)\n",
        "#plt.legend()"
      ],
      "execution_count": null,
      "outputs": [
        {
          "output_type": "stream",
          "text": [
            "l: 810 820 822\n"
          ],
          "name": "stdout"
        }
      ]
    },
    {
      "cell_type": "code",
      "metadata": {
        "colab": {
          "base_uri": "https://localhost:8080/",
          "height": 820
        },
        "id": "fhvpcI2vIGpH",
        "outputId": "293d227e-4cc6-45da-854c-25211aa19f2a"
      },
      "source": [
        "# d histogram\n",
        "FigureSize=(10,5)\n",
        "if(True):\n",
        "  plt.figure(figsize=FigureSize) \n",
        "  plt.title(\"d\")\n",
        "  plt.hist(d1,bins=d1_bin,density=True,label='1x16',lw=1.5,alpha=0.5,histtype='step')\n",
        "  plt.hist(d2,bins=d2_bin,density=True,label='2x8',lw=1.5,alpha=0.5,histtype='step')\n",
        "  plt.hist(d4,bins=d4_bin,density=True,label='4x4',lw=1.5,alpha=0.5,histtype='step')\n",
        "  plt.yscale('log')\n",
        "  plt.legend()\n",
        "  plt.show()\n",
        "  print('For 1x16 <d>:',np.mean(d1))\n",
        "  print('For 2x8 <d>:',np.mean(d2))\n",
        "  print('For 4x4 <d>:',np.mean(d4))\n",
        "  print('**************************')\n",
        "# r histogram\n",
        "if(True):\n",
        "  plt.figure(figsize=FigureSize)\n",
        "  plt.title('r')\n",
        "  entries, bin_edges, patches = plt.hist(r1,bins=r_bin,density=True,label='1x16',lw=1.5,alpha=0.5,histtype='step')\n",
        "  entries, bin_edges, patches = plt.hist(r2,bins=r_bin,density=True,label='2x8',lw=1.5,alpha=0.5,histtype='step')\n",
        "  entries, bin_edges, patches = plt.hist(r4,bins=r_bin,density=True,label='4x4',lw=1.5,alpha=0.5,histtype='step')\n",
        "  plt.yscale('log')\n",
        "  plt.legend()\n",
        "  plt.show()\n",
        "  print('For 1x16 <r>:',np.mean(r1))\n",
        "  print('For 2x8 <r>:',np.mean(r2))\n",
        "  print('For 4x4 <r>:',np.mean(r4))\n",
        "  print('<r>_Poisson = 2ln(2) -1 = 0.386')\n",
        "  print('**************************')"
      ],
      "execution_count": null,
      "outputs": [
        {
          "output_type": "display_data",
          "data": {
            "image/png": "[encoded data removed]",
            "text/plain": [
              "<Figure size 720x360 with 1 Axes>"
            ]
          },
          "metadata": {
            "tags": [],
            "needs_background": "light"
          }
        },
        {
          "output_type": "stream",
          "text": [
            "For 1x16 <d>: 0.022601006816666686\n",
            "For 2x8 <d>: 0.02655876646253001\n",
            "For 4x4 <d>: 0.029536840565942867\n",
            "**************************\n"
          ],
          "name": "stdout"
        },
        {
          "output_type": "display_data",
          "data": {
            "image/png": "[encoded data removed]",
            "text/plain": [
              "<Figure size 720x360 with 1 Axes>"
            ]
          },
          "metadata": {
            "tags": [],
            "needs_background": "light"
          }
        },
        {
          "output_type": "stream",
          "text": [
            "For 1x16 <r>: 0.3447392248073246\n",
            "For 2x8 <r>: 0.3726835086437847\n",
            "For 4x4 <r>: 0.31336380370761563\n",
            "<r>_Poisson = 2ln(2) -1 = 0.386\n",
            "**************************\n"
          ],
          "name": "stdout"
        }
      ]
    },
    {
      "cell_type": "code",
      "metadata": {
        "colab": {
          "base_uri": "https://localhost:8080/"
        },
        "id": "T-QuXFBM3970",
        "outputId": "b4cdb979-4d76-422d-e9ca-df0c488f0bd8"
      },
      "source": [
        "print('Caso 16x1')\n",
        "print('E_0:',w1[0],'E_0 / N:',w1[0]/16, ' - <E>: ', np.mean(w1))\n",
        "print('Caso 8x2')\n",
        "print('E_0:',w2[0],'E_0 / N:',w2[0]/16,' - <E>: ', np.mean(w2))\n",
        "print('Caso 4x4')\n",
        "print('E_0:',w4[0],'E_0 / N:',w4[0]/16,' - <E>: ', np.mean(w4))"
      ],
      "execution_count": null,
      "outputs": [
        {
          "output_type": "stream",
          "text": [
            "Caso 16x1\n",
            "E_0: -7.142296360616778 E_0 / N: -0.44639352253854864  - <E>:  -0.26666666666666666\n",
            "Caso 8x2\n",
            "E_0: -13.751629732812077 E_0 / N: -0.8594768583007548  - <E>:  -0.5333333333333334\n",
            "Caso 4x4\n",
            "E_0: -11.228483208428862 E_0 / N: -0.7017802005268039  - <E>:  -0.5333333333333332\n"
          ],
          "name": "stdout"
        }
      ]
    },
    {
      "cell_type": "markdown",
      "metadata": {
        "id": "L5WRPgTjj9dX"
      },
      "source": [
        "\n",
        "\n",
        "SAVING AND LOADING CELLS"
      ]
    },
    {
      "cell_type": "code",
      "metadata": {
        "id": "mc_sfA2LNaF2"
      },
      "source": [
        "#Save the Energies for 16x1 , 8x2 , 4x4\n",
        "if(False):\n",
        "  np.savetxt('Energies_16x1.txt', w1, fmt='%.16f', delimiter=' ')\n",
        "  np.savetxt('Energies_8x2.txt', w2, fmt='%.16f', delimiter=' ')\n",
        "  np.savetxt('Energies_4x4.txt', w4, fmt='%.16f', delimiter=' ')\n",
        "if(False):\n",
        "  np.savetxt('Energies_16x1_mom0.txt', w1, fmt='%.16f', delimiter=' ')\n",
        "  np.savetxt('Energies_8x2_mom0.txt', w2, fmt='%.16f', delimiter=' ')\n",
        "  np.savetxt('Energies_4x4_mom0.txt', w4, fmt='%.16f', delimiter=' ')\n"
      ],
      "execution_count": null,
      "outputs": []
    },
    {
      "cell_type": "code",
      "metadata": {
        "id": "X7-Qt4xCcRml",
        "colab": {
          "base_uri": "https://localhost:8080/",
          "height": 419
        },
        "outputId": "a6301072-8c7a-4cf6-fba2-8705d6510595"
      },
      "source": [
        "#Load the Energies for 16x1 , 8x2 , 4x4\n",
        "if(True):\n",
        "  w1 = np.loadtxt('Energies_16x1.txt', delimiter=' ')\n",
        "  w2 = np.loadtxt('Energies_8x2.txt', delimiter=' ')\n",
        "  w4 = np.loadtxt('Energies_4x4.txt', delimiter=' ')\n",
        "if(False):\n",
        "  w1 = np.loadtxt('Energies_16x1_mom0.txt', delimiter=' ')\n",
        "  w2 = np.loadtxt('Energies_8x2_mom0.txt', delimiter=' ')\n",
        "  w4 = np.loadtxt('Energies_4x4_mom0.txt', delimiter=' ')"
      ],
      "execution_count": null,
      "outputs": [
        {
          "output_type": "error",
          "ename": "OSError",
          "evalue": "ignored",
          "traceback": [
            "\u001b[0;31m---------------------------------------------------------------------------\u001b[0m",
            "\u001b[0;31mOSError\u001b[0m                                   Traceback (most recent call last)",
            "\u001b[0;32m<ipython-input-5-fcdc43926468>\u001b[0m in \u001b[0;36m<module>\u001b[0;34m()\u001b[0m\n\u001b[1;32m      1\u001b[0m \u001b[0;31m#Load the Energies for 16x1 , 8x2 , 4x4\u001b[0m\u001b[0;34m\u001b[0m\u001b[0;34m\u001b[0m\u001b[0;34m\u001b[0m\u001b[0m\n\u001b[1;32m      2\u001b[0m \u001b[0;32mif\u001b[0m\u001b[0;34m(\u001b[0m\u001b[0;32mTrue\u001b[0m\u001b[0;34m)\u001b[0m\u001b[0;34m:\u001b[0m\u001b[0;34m\u001b[0m\u001b[0;34m\u001b[0m\u001b[0m\n\u001b[0;32m----> 3\u001b[0;31m   \u001b[0mw1\u001b[0m \u001b[0;34m=\u001b[0m \u001b[0mnp\u001b[0m\u001b[0;34m.\u001b[0m\u001b[0mloadtxt\u001b[0m\u001b[0;34m(\u001b[0m\u001b[0;34m'Energies_16x1.txt'\u001b[0m\u001b[0;34m,\u001b[0m \u001b[0mdelimiter\u001b[0m\u001b[0;34m=\u001b[0m\u001b[0;34m' '\u001b[0m\u001b[0;34m)\u001b[0m\u001b[0;34m\u001b[0m\u001b[0;34m\u001b[0m\u001b[0m\n\u001b[0m\u001b[1;32m      4\u001b[0m   \u001b[0mw2\u001b[0m \u001b[0;34m=\u001b[0m \u001b[0mnp\u001b[0m\u001b[0;34m.\u001b[0m\u001b[0mloadtxt\u001b[0m\u001b[0;34m(\u001b[0m\u001b[0;34m'Energies_8x2.txt'\u001b[0m\u001b[0;34m,\u001b[0m \u001b[0mdelimiter\u001b[0m\u001b[0;34m=\u001b[0m\u001b[0;34m' '\u001b[0m\u001b[0;34m)\u001b[0m\u001b[0;34m\u001b[0m\u001b[0;34m\u001b[0m\u001b[0m\n\u001b[1;32m      5\u001b[0m   \u001b[0mw4\u001b[0m \u001b[0;34m=\u001b[0m \u001b[0mnp\u001b[0m\u001b[0;34m.\u001b[0m\u001b[0mloadtxt\u001b[0m\u001b[0;34m(\u001b[0m\u001b[0;34m'Energies_4x4.txt'\u001b[0m\u001b[0;34m,\u001b[0m \u001b[0mdelimiter\u001b[0m\u001b[0;34m=\u001b[0m\u001b[0;34m' '\u001b[0m\u001b[0;34m)\u001b[0m\u001b[0;34m\u001b[0m\u001b[0;34m\u001b[0m\u001b[0m\n",
            "\u001b[0;32m/usr/local/lib/python3.6/dist-packages/numpy/lib/npyio.py\u001b[0m in \u001b[0;36mloadtxt\u001b[0;34m(fname, dtype, comments, delimiter, converters, skiprows, usecols, unpack, ndmin, encoding, max_rows)\u001b[0m\n\u001b[1;32m    959\u001b[0m             \u001b[0mfname\u001b[0m \u001b[0;34m=\u001b[0m \u001b[0mos_fspath\u001b[0m\u001b[0;34m(\u001b[0m\u001b[0mfname\u001b[0m\u001b[0;34m)\u001b[0m\u001b[0;34m\u001b[0m\u001b[0;34m\u001b[0m\u001b[0m\n\u001b[1;32m    960\u001b[0m         \u001b[0;32mif\u001b[0m \u001b[0m_is_string_like\u001b[0m\u001b[0;34m(\u001b[0m\u001b[0mfname\u001b[0m\u001b[0;34m)\u001b[0m\u001b[0;34m:\u001b[0m\u001b[0;34m\u001b[0m\u001b[0;34m\u001b[0m\u001b[0m\n\u001b[0;32m--> 961\u001b[0;31m             \u001b[0mfh\u001b[0m \u001b[0;34m=\u001b[0m \u001b[0mnp\u001b[0m\u001b[0;34m.\u001b[0m\u001b[0mlib\u001b[0m\u001b[0;34m.\u001b[0m\u001b[0m_datasource\u001b[0m\u001b[0;34m.\u001b[0m\u001b[0mopen\u001b[0m\u001b[0;34m(\u001b[0m\u001b[0mfname\u001b[0m\u001b[0;34m,\u001b[0m \u001b[0;34m'rt'\u001b[0m\u001b[0;34m,\u001b[0m \u001b[0mencoding\u001b[0m\u001b[0;34m=\u001b[0m\u001b[0mencoding\u001b[0m\u001b[0;34m)\u001b[0m\u001b[0;34m\u001b[0m\u001b[0;34m\u001b[0m\u001b[0m\n\u001b[0m\u001b[1;32m    962\u001b[0m             \u001b[0mfencoding\u001b[0m \u001b[0;34m=\u001b[0m \u001b[0mgetattr\u001b[0m\u001b[0;34m(\u001b[0m\u001b[0mfh\u001b[0m\u001b[0;34m,\u001b[0m \u001b[0;34m'encoding'\u001b[0m\u001b[0;34m,\u001b[0m \u001b[0;34m'latin1'\u001b[0m\u001b[0;34m)\u001b[0m\u001b[0;34m\u001b[0m\u001b[0;34m\u001b[0m\u001b[0m\n\u001b[1;32m    963\u001b[0m             \u001b[0mfh\u001b[0m \u001b[0;34m=\u001b[0m \u001b[0miter\u001b[0m\u001b[0;34m(\u001b[0m\u001b[0mfh\u001b[0m\u001b[0;34m)\u001b[0m\u001b[0;34m\u001b[0m\u001b[0;34m\u001b[0m\u001b[0m\n",
            "\u001b[0;32m/usr/local/lib/python3.6/dist-packages/numpy/lib/_datasource.py\u001b[0m in \u001b[0;36mopen\u001b[0;34m(path, mode, destpath, encoding, newline)\u001b[0m\n\u001b[1;32m    193\u001b[0m \u001b[0;34m\u001b[0m\u001b[0m\n\u001b[1;32m    194\u001b[0m     \u001b[0mds\u001b[0m \u001b[0;34m=\u001b[0m \u001b[0mDataSource\u001b[0m\u001b[0;34m(\u001b[0m\u001b[0mdestpath\u001b[0m\u001b[0;34m)\u001b[0m\u001b[0;34m\u001b[0m\u001b[0;34m\u001b[0m\u001b[0m\n\u001b[0;32m--> 195\u001b[0;31m     \u001b[0;32mreturn\u001b[0m \u001b[0mds\u001b[0m\u001b[0;34m.\u001b[0m\u001b[0mopen\u001b[0m\u001b[0;34m(\u001b[0m\u001b[0mpath\u001b[0m\u001b[0;34m,\u001b[0m \u001b[0mmode\u001b[0m\u001b[0;34m,\u001b[0m \u001b[0mencoding\u001b[0m\u001b[0;34m=\u001b[0m\u001b[0mencoding\u001b[0m\u001b[0;34m,\u001b[0m \u001b[0mnewline\u001b[0m\u001b[0;34m=\u001b[0m\u001b[0mnewline\u001b[0m\u001b[0;34m)\u001b[0m\u001b[0;34m\u001b[0m\u001b[0;34m\u001b[0m\u001b[0m\n\u001b[0m\u001b[1;32m    196\u001b[0m \u001b[0;34m\u001b[0m\u001b[0m\n\u001b[1;32m    197\u001b[0m \u001b[0;34m\u001b[0m\u001b[0m\n",
            "\u001b[0;32m/usr/local/lib/python3.6/dist-packages/numpy/lib/_datasource.py\u001b[0m in \u001b[0;36mopen\u001b[0;34m(self, path, mode, encoding, newline)\u001b[0m\n\u001b[1;32m    533\u001b[0m                                       encoding=encoding, newline=newline)\n\u001b[1;32m    534\u001b[0m         \u001b[0;32melse\u001b[0m\u001b[0;34m:\u001b[0m\u001b[0;34m\u001b[0m\u001b[0;34m\u001b[0m\u001b[0m\n\u001b[0;32m--> 535\u001b[0;31m             \u001b[0;32mraise\u001b[0m \u001b[0mIOError\u001b[0m\u001b[0;34m(\u001b[0m\u001b[0;34m\"%s not found.\"\u001b[0m \u001b[0;34m%\u001b[0m \u001b[0mpath\u001b[0m\u001b[0;34m)\u001b[0m\u001b[0;34m\u001b[0m\u001b[0;34m\u001b[0m\u001b[0m\n\u001b[0m\u001b[1;32m    536\u001b[0m \u001b[0;34m\u001b[0m\u001b[0m\n\u001b[1;32m    537\u001b[0m \u001b[0;34m\u001b[0m\u001b[0m\n",
            "\u001b[0;31mOSError\u001b[0m: Energies_16x1.txt not found."
          ]
        }
      ]
    },
    {
      "cell_type": "code",
      "metadata": {
        "id": "hkIIbespg-YZ"
      },
      "source": [
        "f = open(\"Exact_half.txt\", \"a\")\n",
        "f.write(str( np.append(np.sort(EnVec[\"16\"])[0:2],16.0))[1:-1]+'\\n')\n",
        "f.write(str( np.append(np.sort(EnVec[\"14\"])[0:2],14.0))[1:-1]+'\\n')\n",
        "f.write(str( np.append(np.sort(EnVec[\"12\"])[0:2],12.0))[1:-1]+'\\n')\n",
        "f.write(str( np.append(np.sort(EnVec[\"10\"])[0:2],10.0))[1:-1]+'\\n')\n",
        "f.write(str( np.append(np.sort(EnVec[\"8\"])[0:2],8.0))[1:-1]+'\\n')\n",
        "f.close()"
      ],
      "execution_count": null,
      "outputs": []
    },
    {
      "cell_type": "code",
      "metadata": {
        "colab": {
          "base_uri": "https://localhost:8080/"
        },
        "id": "NfM_TSD8M_yD",
        "outputId": "5e18b106-e256-455c-cc4a-f7099b9dd750"
      },
      "source": [
        ""
      ],
      "execution_count": null,
      "outputs": [
        {
          "output_type": "execute_result",
          "data": {
            "text/plain": [
              "array([], dtype=float64)"
            ]
          },
          "metadata": {
            "tags": []
          },
          "execution_count": 24
        }
      ]
    },
    {
      "cell_type": "code",
      "metadata": {
        "id": "jWlv6_rwNAKo"
      },
      "source": [
        ""
      ],
      "execution_count": null,
      "outputs": []
    }
  ]
}