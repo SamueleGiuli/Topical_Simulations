{
 "cells": [
  {
   "cell_type": "code",
   "execution_count": 3,
   "metadata": {},
   "outputs": [],
   "source": [
    "import numpy as np\n",
    "import matplotlib.pyplot as plt"
   ]
  },
  {
   "cell_type": "markdown",
   "metadata": {},
   "source": [
    "PARAMETRI:"
   ]
  },
  {
   "cell_type": "code",
   "execution_count": 43,
   "metadata": {},
   "outputs": [],
   "source": [
    "alpha = [\"a01\", \"a02\", \"a03\", \"a05\", \"a1\", \"a2\", \"a5\", \"a10\"]\n",
    "rand  = [\"r1\", \"r2\", \"r3\", \"r4\", \"r5\"]\n",
    "\n",
    "alphan= [\"a=0.1\", \"a=0.2\",\"a=0.3\",\"a=0.5\",\"a=1.0\",\"a=2.0\", \"a=5.0\",\"a=10.0\"]\n",
    "modi = [\"k=1\", \"k=2\", \"k=3\", \"k=4\", \"k=5\",\"k=6\",\"k=7\",\"k=8\",\"k=9\",\"k=10\"]\n",
    "randn= [\"r=1,\", \"r=2,\", \"r=3,\", \"r=4,\", \"r=5,\"]\n",
    "\n",
    "avalues=[0.1,0.2,0.3,0.5,1.0,2.0,5.0,10.0]"
   ]
  },
  {
   "cell_type": "markdown",
   "metadata": {},
   "source": [
    "ENERGIE MEDIE:"
   ]
  },
  {
   "cell_type": "code",
   "execution_count": 13,
   "metadata": {
    "scrolled": true
   },
   "outputs": [
    {
     "name": "stdout",
     "output_type": "stream",
     "text": [
      "./img_rnd/avgr1a01.png\n",
      "./img_rnd/avgr2a01.png\n",
      "./img_rnd/avgr3a01.png\n",
      "./img_rnd/avgr4a01.png\n",
      "./img_rnd/avgr5a01.png\n",
      "./img_rnd/avgr1a02.png\n",
      "./img_rnd/avgr2a02.png\n",
      "./img_rnd/avgr3a02.png\n",
      "./img_rnd/avgr4a02.png\n",
      "./img_rnd/avgr5a02.png\n",
      "./img_rnd/avgr1a03.png\n",
      "./img_rnd/avgr2a03.png\n",
      "./img_rnd/avgr3a03.png\n",
      "./img_rnd/avgr4a03.png\n",
      "./img_rnd/avgr5a03.png\n",
      "./img_rnd/avgr1a05.png\n",
      "./img_rnd/avgr2a05.png\n",
      "./img_rnd/avgr3a05.png\n",
      "./img_rnd/avgr4a05.png\n",
      "./img_rnd/avgr5a05.png\n",
      "./img_rnd/avgr1a1.png\n",
      "./img_rnd/avgr2a1.png\n",
      "./img_rnd/avgr3a1.png\n",
      "./img_rnd/avgr4a1.png\n",
      "./img_rnd/avgr5a1.png\n",
      "./img_rnd/avgr1a2.png\n",
      "./img_rnd/avgr2a2.png\n",
      "./img_rnd/avgr3a2.png\n",
      "./img_rnd/avgr4a2.png\n",
      "./img_rnd/avgr5a2.png\n",
      "./img_rnd/avgr1a5.png\n",
      "./img_rnd/avgr2a5.png\n",
      "./img_rnd/avgr3a5.png\n",
      "./img_rnd/avgr4a5.png\n",
      "./img_rnd/avgr5a5.png\n",
      "./img_rnd/avgr1a10.png\n",
      "./img_rnd/avgr2a10.png\n",
      "./img_rnd/avgr3a10.png\n",
      "./img_rnd/avgr4a10.png\n",
      "./img_rnd/avgr5a10.png\n"
     ]
    }
   ],
   "source": [
    "plt.figure(figsize=[6,6])\n",
    "\n",
    "for a, aname in enumerate(alpha):\n",
    "    for r, rname in enumerate(rand):\n",
    "        print('./img_rnd/avg'+rname+aname+\".png\")\n",
    "        for i in list(range(1,7)):\n",
    "            t,k = np.loadtxt(\"./random/avgmodes_\"+rname+\"_t800_\"+aname+\".dat\", usecols=(0, i), unpack=True)\n",
    "        plt.plot(t[:],k[:],label=modi[i-1])\n",
    "        plt.title(r'$'+randn[r]+alphan[a]+'$')\n",
    "        plt.xlabel('t')\n",
    "        plt.ylabel(r'$ <E_k>_t$')\n",
    "        plt.legend()\n",
    "        #plt.show()\n",
    "        plt.savefig('./img_rnd/avg'+rname+aname+\".png\")\n",
    "        plt.close()"
   ]
  },
  {
   "cell_type": "markdown",
   "metadata": {},
   "source": [
    "MODI ARMONICI"
   ]
  },
  {
   "cell_type": "code",
   "execution_count": 18,
   "metadata": {},
   "outputs": [
    {
     "name": "stdout",
     "output_type": "stream",
     "text": [
      "./img_rnd/modr1a01.png\n",
      "./img_rnd/modr1a02.png\n",
      "./img_rnd/modr1a03.png\n",
      "./img_rnd/modr1a05.png\n",
      "./img_rnd/modr1a1.png\n",
      "./img_rnd/modr1a2.png\n",
      "./img_rnd/modr1a5.png\n",
      "./img_rnd/modr1a10.png\n",
      "./img_rnd/modr2a01.png\n",
      "./img_rnd/modr2a02.png\n",
      "./img_rnd/modr2a03.png\n",
      "./img_rnd/modr2a05.png\n",
      "./img_rnd/modr2a1.png\n",
      "./img_rnd/modr2a2.png\n",
      "./img_rnd/modr2a5.png\n",
      "./img_rnd/modr2a10.png\n",
      "./img_rnd/modr3a01.png\n",
      "./img_rnd/modr3a02.png\n",
      "./img_rnd/modr3a03.png\n",
      "./img_rnd/modr3a05.png\n",
      "./img_rnd/modr3a1.png\n",
      "./img_rnd/modr3a2.png\n",
      "./img_rnd/modr3a5.png\n",
      "./img_rnd/modr3a10.png\n",
      "./img_rnd/modr4a01.png\n",
      "./img_rnd/modr4a02.png\n",
      "./img_rnd/modr4a03.png\n",
      "./img_rnd/modr4a05.png\n",
      "./img_rnd/modr4a1.png\n",
      "./img_rnd/modr4a2.png\n",
      "./img_rnd/modr4a5.png\n",
      "./img_rnd/modr4a10.png\n",
      "./img_rnd/modr5a01.png\n",
      "./img_rnd/modr5a02.png\n",
      "./img_rnd/modr5a03.png\n",
      "./img_rnd/modr5a05.png\n",
      "./img_rnd/modr5a1.png\n",
      "./img_rnd/modr5a2.png\n",
      "./img_rnd/modr5a5.png\n",
      "./img_rnd/modr5a10.png\n"
     ]
    }
   ],
   "source": [
    "plt.figure(figsize=[6,6])\n",
    "\n",
    "for r, rname in enumerate(rand):\n",
    "    for a, aname in enumerate(alpha):\n",
    "        print('./img_rnd/mod'+rname+aname+\".png\")\n",
    "        for i in list(range(1,7)):\n",
    "            t,k = np.loadtxt(\"./random/modes_\"+rname+\"_t800_\"+aname+\".dat\", usecols=(0, i), unpack=True)\n",
    "            plt.plot(t[:],k[:],label=modi[i-1])\n",
    "        \n",
    "        plt.title(r'$'+randn[r]+alphan[a]+'$')\n",
    "        plt.xlabel('t')\n",
    "        plt.ylabel(r'$ <E_k>_t$')\n",
    "        plt.legend()\n",
    "        #plt.show()\n",
    "        plt.savefig('./img_rnd/mod'+rname+aname+\".png\")\n",
    "        plt.close()"
   ]
  },
  {
   "cell_type": "markdown",
   "metadata": {},
   "source": [
    "POWER SPECTRUM:"
   ]
  },
  {
   "cell_type": "code",
   "execution_count": 38,
   "metadata": {},
   "outputs": [
    {
     "name": "stdout",
     "output_type": "stream",
     "text": [
      "./img_rnd/psr1a01.png\n",
      "./img_rnd/psr2a01.png\n",
      "./img_rnd/psr3a01.png\n",
      "./img_rnd/psr4a01.png\n",
      "./img_rnd/psr5a01.png\n",
      "./img_rnd/psr1a02.png\n",
      "./img_rnd/psr2a02.png\n",
      "./img_rnd/psr3a02.png\n",
      "./img_rnd/psr4a02.png\n",
      "./img_rnd/psr5a02.png\n",
      "./img_rnd/psr1a03.png\n",
      "./img_rnd/psr2a03.png\n",
      "./img_rnd/psr3a03.png\n",
      "./img_rnd/psr4a03.png\n",
      "./img_rnd/psr5a03.png\n",
      "./img_rnd/psr1a05.png\n",
      "./img_rnd/psr2a05.png\n",
      "./img_rnd/psr3a05.png\n",
      "./img_rnd/psr4a05.png\n",
      "./img_rnd/psr5a05.png\n",
      "./img_rnd/psr1a1.png\n",
      "./img_rnd/psr2a1.png\n",
      "./img_rnd/psr3a1.png\n",
      "./img_rnd/psr4a1.png\n",
      "./img_rnd/psr5a1.png\n",
      "./img_rnd/psr1a2.png\n",
      "./img_rnd/psr2a2.png\n",
      "./img_rnd/psr3a2.png\n",
      "./img_rnd/psr4a2.png\n",
      "./img_rnd/psr5a2.png\n",
      "./img_rnd/psr1a5.png\n",
      "./img_rnd/psr2a5.png\n",
      "./img_rnd/psr3a5.png\n",
      "./img_rnd/psr4a5.png\n",
      "./img_rnd/psr5a5.png\n",
      "./img_rnd/psr1a10.png\n",
      "./img_rnd/psr2a10.png\n",
      "./img_rnd/psr3a10.png\n",
      "./img_rnd/psr4a10.png\n",
      "./img_rnd/psr5a10.png\n"
     ]
    },
    {
     "data": {
      "text/plain": [
       "<Figure size 432x576 with 0 Axes>"
      ]
     },
     "metadata": {},
     "output_type": "display_data"
    }
   ],
   "source": [
    "plt.figure(figsize=[6,8])\n",
    "N=10\n",
    "OmegaM = [0]*N\n",
    "for i in list(range(N)):\n",
    "    OmegaM[i]=2*np.sin(np.pi*(i+1)/(2*(N+1)))\n",
    "\n",
    "\n",
    "for a, aname in enumerate(alpha):\n",
    "    for r, rname in enumerate(rand):\n",
    "        print('./img_rnd/ps'+rname+aname+\".png\")\n",
    "        t, k = np.loadtxt(\"./random/ps_\"+rname+\"_t800_\"+aname+\".dat\", usecols=(0, 1), unpack=True)\n",
    "        plt.figure(figsize=[6,6])\n",
    "        plt.plot(t[:],k[:],label='power spectrum')\n",
    "        plt.scatter(OmegaM[:],[0]*N,label='freq. teoriche')\n",
    "        plt.title(r'$'+randn[r]+alphan[a]+'$')\n",
    "        plt.xlabel('$\\omega_k$')\n",
    "        plt.ylabel(r'$|C(\\omega_k)|^2$')\n",
    "        plt.legend()\n",
    "        #plt.show()emacs \n",
    "        plt.savefig('./img_rnd/ps'+rname+aname+\".png\")\n",
    "        plt.close()"
   ]
  },
  {
   "cell_type": "code",
   "execution_count": null,
   "metadata": {},
   "outputs": [],
   "source": []
  },
  {
   "cell_type": "markdown",
   "metadata": {},
   "source": [
    "ERGODICITY CHECK:"
   ]
  },
  {
   "cell_type": "code",
   "execution_count": 51,
   "metadata": {
    "scrolled": false
   },
   "outputs": [
    {
     "name": "stdout",
     "output_type": "stream",
     "text": [
      "chi2<1 per : r1 a1\n",
      "chi2<1 per : r1 a2\n",
      "chi2<1 per : r1 a5\n",
      "chi2<1 per : r1 a10\n",
      "chi2<1 per : r2 a2\n",
      "chi2<1 per : r2 a5\n",
      "chi2<1 per : r2 a10\n",
      "chi2<1 per : r3 a1\n",
      "chi2<1 per : r3 a2\n",
      "chi2<1 per : r3 a5\n",
      "chi2<1 per : r3 a10\n",
      "chi2<1 per : r4 a2\n",
      "chi2<1 per : r4 a5\n",
      "chi2<1 per : r4 a10\n",
      "chi2<1 per : r5 a2\n",
      "chi2<1 per : r5 a5\n",
      "chi2<1 per : r5 a10\n"
     ]
    },
    {
     "data": {
      "image/png": "[encoded data removed]",
      "text/plain": [
       "<Figure size 432x288 with 1 Axes>"
      ]
     },
     "metadata": {
      "needs_background": "light"
     },
     "output_type": "display_data"
    }
   ],
   "source": [
    "media = [0]*10\n",
    "devstd = [0]*10\n",
    "\n",
    "\n",
    "chiRA=[[0]*(len(alpha))]*(len(rand))\n",
    "\n",
    "for r, rname in enumerate(rand):\n",
    "    for a, aname in enumerate(alpha):\n",
    "        for i in list(range(1,11)):\n",
    "            k = np.loadtxt(\"./random/modes_\"+rname+\"_t800_\"+aname+\".dat\", usecols=( i), unpack=True)\n",
    "            lsup = int(len(k))\n",
    "            linf = int(lsup/2)\n",
    "            media[i-1]=np.mean(k[linf:lsup-1])\n",
    "            devstd[i-1]=np.std(k[linf:lsup-1])\n",
    "        mediatot=sum(media)/10\n",
    "        chi2=0\n",
    "        for i in list(range(0,10)):\n",
    "            chi2=chi2+(mediatot-media[i])**2/devstd[i]\n",
    "        chiRA[r][a]=chi2/(N-1)\n",
    "        if (chi2<0.5):\n",
    "            print('chi2<1 per :',rname,aname)\n",
    "            \n",
    "    plt.plot(avalues,chiRA[r][:],label=randn[r])\n",
    "plt.hlines(1,0,10)\n",
    "#plt.ylim(bottom=0,top=30)\n",
    "\n",
    "plt.title('Random Configurations')\n",
    "plt.xscale('log')\n",
    "plt.yscale('log')\n",
    "plt.xlabel(r'$ \\alpha $')\n",
    "plt.ylabel(r'$ \\chi^2 $')\n",
    "plt.legend()\n",
    "plt.savefig('./img_rnd/RandomChi')"
   ]
  },
  {
   "cell_type": "code",
   "execution_count": null,
   "metadata": {},
   "outputs": [],
   "source": []
  }
 ],
 "metadata": {
  "kernelspec": {
   "display_name": "Python 3",
   "language": "python",
   "name": "python3"
  },
  "language_info": {
   "codemirror_mode": {
    "name": "ipython",
    "version": 3
   },
   "file_extension": ".py",
   "mimetype": "text/x-python",
   "name": "python",
   "nbconvert_exporter": "python",
   "pygments_lexer": "ipython3",
   "version": "3.7.5"
  }
 },
 "nbformat": 4,
 "nbformat_minor": 2
}
